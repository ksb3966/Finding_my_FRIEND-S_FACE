{
 "cells": [
  {
   "cell_type": "code",
   "execution_count": 1,
   "metadata": {},
   "outputs": [
    {
     "name": "stdout",
     "output_type": "stream",
     "text": [
      "1\n",
      "[[159 378 357 357]]\n"
     ]
    }
   ],
   "source": [
    "import cv2\n",
    "import sys\n",
    "\n",
    "num=0\n",
    "imgNum  = 0\n",
    "while num<1:\n",
    "    num+=1\n",
    "    print(num)\n",
    "    \n",
    "    image_file = \"1 (\"+str(num)+\").jpg\"\n",
    "    cascade_file = \"haarcascade_frontalface_alt.xml\"\n",
    "    \n",
    "\n",
    "    image = cv2.imread(image_file)\n",
    "    image_gs = cv2.cvtColor(image, cv2.COLOR_BGR2GRAY)\n",
    "\n",
    "    cascade = cv2.CascadeClassifier(cascade_file)\n",
    "    face_list = cascade.detectMultiScale(image_gs, scaleFactor = 1.1, minNeighbors = 1, minSize = (150, 150))\n",
    "\n",
    "    if len(face_list) > 0:\n",
    "        print(face_list)\n",
    "        color = (0, 0, 255)\n",
    "        for (x,y,w,h) in face_list:\n",
    "            cropped = image[y:y + h, x:x + w]\n",
    "\n",
    "    \n",
    "        # 이미지를 저장\n",
    "            cv2.imwrite(\"thumbnail\" + str(imgNum) + \".png\", cropped)\n",
    "            imgNum += 1\n",
    "    \n",
    "    else:\n",
    "        print(\"no face\")\n",
    "    \n",
    "\n",
    "\n",
    "\n",
    "\n",
    "cv2.waitKey(0)\n",
    "cv2.destroyAllWindows()"
   ]
  },
  {
   "cell_type": "code",
   "execution_count": null,
   "metadata": {},
   "outputs": [],
   "source": []
  }
 ],
 "metadata": {
  "kernelspec": {
   "display_name": "Python 3",
   "language": "python",
   "name": "python3"
  },
  "language_info": {
   "codemirror_mode": {
    "name": "ipython",
    "version": 3
   },
   "file_extension": ".py",
   "mimetype": "text/x-python",
   "name": "python",
   "nbconvert_exporter": "python",
   "pygments_lexer": "ipython3",
   "version": "3.6.7"
  }
 },
 "nbformat": 4,
 "nbformat_minor": 2
}
