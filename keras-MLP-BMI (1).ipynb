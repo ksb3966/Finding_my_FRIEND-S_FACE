{
 "cells": [
  {
   "cell_type": "code",
   "execution_count": 2,
   "metadata": {
    "scrolled": true
   },
   "outputs": [
    {
     "name": "stderr",
     "output_type": "stream",
     "text": [
      "C:\\anaconda\\lib\\site-packages\\ipykernel_launcher.py:12: FutureWarning: Method .as_matrix will be removed in a future version. Use .values instead.\n",
      "  if sys.path[0] == '':\n"
     ]
    },
    {
     "name": "stdout",
     "output_type": "stream",
     "text": [
      "Train on 13500 samples, validate on 1500 samples\n",
      "Epoch 1/20\n",
      "13500/13500 [==============================] - 1s 65us/step - loss: 0.5174 - acc: 0.7896 - val_loss: 0.3539 - val_acc: 0.8467\n",
      "Epoch 2/20\n",
      "13500/13500 [==============================] - 1s 40us/step - loss: 0.2510 - acc: 0.8976 - val_loss: 0.1916 - val_acc: 0.9213\n",
      "Epoch 3/20\n",
      "13500/13500 [==============================] - 1s 40us/step - loss: 0.1908 - acc: 0.9182 - val_loss: 0.1291 - val_acc: 0.9560\n",
      "Epoch 4/20\n",
      "13500/13500 [==============================] - 1s 39us/step - loss: 0.1624 - acc: 0.9301 - val_loss: 0.1653 - val_acc: 0.9173\n",
      "4999/4999 [==============================] - 0s 34us/step\n",
      "loss= 0.1737210694421027\n",
      "accuracy= 0.9077815563351089\n"
     ]
    }
   ],
   "source": [
    "from keras.models import Sequential\n",
    "from keras.layers.core import Dense, Dropout, Activation\n",
    "from keras.callbacks import EarlyStopping\n",
    "import pandas as pd, numpy as np\n",
    "\n",
    "# BMI 데이터를 읽어 들이고 정규화하기 --- (※1)\n",
    "csv = pd.read_csv(\"bmi.csv\")\n",
    "\n",
    "# 몸무게와 키 데이터\n",
    "csv[\"weight\"] /= 100   #normalization\n",
    "csv[\"height\"] /= 200   #normalization\n",
    "X = csv[[\"weight\", \"height\"]].as_matrix() # --- (※1a)\n",
    "\n",
    "# 레이블\n",
    "bclass = {\"thin\":[1,0,0], \"normal\":[0,1,0], \"fat\":[0,0,1]}\n",
    "y = np.empty((20000,3))     # 2000x3 크기의 다차원 벡터 생성\n",
    "for i, v in enumerate(csv[\"label\"]):\n",
    "    y[i] = bclass[v]        #\"thin'이면, y[i]=[1,0,0] 와 같이 할당\n",
    "    \n",
    "# 훈련 전용 데이터와 테스트 전용 데이터로 나누기 --- (※2)\n",
    "X_train, y_train = X[1:15001], y[1:15001]\n",
    "X_test,  y_test  = X[15001:20001], y[15001:20001] \n",
    "\n",
    "# 모델 구조 정의하기 --- (※3)\n",
    "model = Sequential()  #순차적 계층화 준비\n",
    "model.add(Dense(512, input_shape=(2,)))  #입력 2개로부터 전달받는 512개 노드의 layer 생성\n",
    "model.add(Activation('relu'))  #ReLU 활성화함수 채택\n",
    "model.add(Dropout(0.1))        #dropout ratio=10% (배치 훈련시 10% arc 무시)\n",
    "\n",
    "model.add(Dense(512))         #512개 노드의 layer 생성\n",
    "model.add(Activation('relu'))\n",
    "model.add(Dropout(0.1))\n",
    "\n",
    "model.add(Dense(3))\n",
    "model.add(Activation('softmax')) #분류(classification)을 위해 softmax 함수 사용\n",
    "\n",
    "# 모델 구축하기 --- (※4)\n",
    "model.compile(\n",
    "    loss='categorical_crossentropy',  #다중 교차엔트로피\n",
    "    optimizer=\"rmsprop\",   #최적화 기법 중 하나\n",
    "    metrics=['accuracy'])  #정확도 측정\n",
    "\n",
    "# 데이터 훈련하기 --- (※5)\n",
    "hist = model.fit(\n",
    "    X_train, y_train,\n",
    "    batch_size=100,  #100개에 한 번씩 업데이터 실행\n",
    "    epochs=20,       #훈련 데이터셋을 총 20회 반복 실험. 단, 조기중지될 수 있음\n",
    "    validation_split=0.1,  \n",
    "      #validation data 분할 비율. 즉, 15000개 중에서 10%인 1500개를 validation용으로 분할\n",
    "    callbacks=[EarlyStopping(monitor='val_loss', patience=1)],  \n",
    "      #'val_loss'를 monitor하여 감소하면 한 번 더(1) 참고 조기중지\n",
    "    verbose=1)  #전 과정을 화면에 출력(1) 또는 미출력(0) 모드\n",
    "\n",
    "# 테스트 데이터로 평가하기 --- (※6)\n",
    "score = model.evaluate(X_test, y_test)\n",
    "print('loss=', score[0])\n",
    "print('accuracy=', score[1])"
   ]
  },
  {
   "cell_type": "code",
   "execution_count": null,
   "metadata": {},
   "outputs": [],
   "source": []
  }
 ],
 "metadata": {
  "kernelspec": {
   "display_name": "Python 3",
   "language": "python",
   "name": "python3"
  },
  "language_info": {
   "codemirror_mode": {
    "name": "ipython",
    "version": 3
   },
   "file_extension": ".py",
   "mimetype": "text/x-python",
   "name": "python",
   "nbconvert_exporter": "python",
   "pygments_lexer": "ipython3",
   "version": "3.6.5"
  }
 },
 "nbformat": 4,
 "nbformat_minor": 2
}
